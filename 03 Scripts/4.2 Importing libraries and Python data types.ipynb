{
 "cells": [
  {
   "cell_type": "markdown",
   "id": "f995e6ed",
   "metadata": {},
   "source": [
    "# 01. Importing libraries"
   ]
  },
  {
   "cell_type": "code",
   "execution_count": 5,
   "id": "8c14cb9d",
   "metadata": {},
   "outputs": [],
   "source": [
    "# import libraries\n",
    "import pandas as pd\n",
    "import numpy as np\n",
    "import os"
   ]
  },
  {
   "cell_type": "markdown",
   "id": "e1d110f4",
   "metadata": {},
   "source": [
    "# 02. Python data types"
   ]
  },
  {
   "cell_type": "markdown",
   "id": "887abefa",
   "metadata": {},
   "source": [
    "#### Code 3 different ways of reaching a result of 100 by adding or subtracting numeric variables."
   ]
  },
  {
   "cell_type": "code",
   "execution_count": 1,
   "id": "68dbc7ca",
   "metadata": {},
   "outputs": [
    {
     "data": {
      "text/plain": [
       "100"
      ]
     },
     "execution_count": 1,
     "metadata": {},
     "output_type": "execute_result"
    }
   ],
   "source": [
    "# addition\n",
    "99+1"
   ]
  },
  {
   "cell_type": "code",
   "execution_count": 2,
   "id": "7b517ed8",
   "metadata": {},
   "outputs": [
    {
     "data": {
      "text/plain": [
       "100"
      ]
     },
     "execution_count": 2,
     "metadata": {},
     "output_type": "execute_result"
    }
   ],
   "source": [
    "# equation\n",
    "x = 5\n",
    "y = 95\n",
    "x + y"
   ]
  },
  {
   "cell_type": "code",
   "execution_count": 5,
   "id": "3e3e712b",
   "metadata": {},
   "outputs": [
    {
     "data": {
      "text/plain": [
       "100"
      ]
     },
     "execution_count": 5,
     "metadata": {},
     "output_type": "execute_result"
    }
   ],
   "source": [
    "# substraction\n",
    "1000-900"
   ]
  },
  {
   "cell_type": "markdown",
   "id": "6254325c",
   "metadata": {},
   "source": [
    "#### Code 2 floating-point variables and divide them by each other."
   ]
  },
  {
   "cell_type": "code",
   "execution_count": 6,
   "id": "02eea29b",
   "metadata": {},
   "outputs": [
    {
     "data": {
      "text/plain": [
       "4.069373709566414"
      ]
     },
     "execution_count": 6,
     "metadata": {},
     "output_type": "execute_result"
    }
   ],
   "source": [
    "# division\n",
    "a = 5.9128\n",
    "b = 1.453\n",
    "a/b"
   ]
  },
  {
   "cell_type": "markdown",
   "id": "4c5641c8",
   "metadata": {},
   "source": [
    "#### Construct a short word made of separate strings (you’ll need to concatenate some strings!)."
   ]
  },
  {
   "cell_type": "code",
   "execution_count": 10,
   "id": "7733e51d",
   "metadata": {},
   "outputs": [
    {
     "data": {
      "text/plain": [
       "'Hello'"
      ]
     },
     "execution_count": 10,
     "metadata": {},
     "output_type": "execute_result"
    }
   ],
   "source": [
    "c = 'Hel'\n",
    "d = 'lo'\n",
    "c + d"
   ]
  },
  {
   "cell_type": "markdown",
   "id": "0053395c",
   "metadata": {},
   "source": [
    "#### Construct 2 short sentences made of separate strings."
   ]
  },
  {
   "cell_type": "code",
   "execution_count": 18,
   "id": "4bf738f1",
   "metadata": {},
   "outputs": [
    {
     "data": {
      "text/plain": [
       "'Donaudampfschifffahrtsgesellschaft is a very long German word. It is a combination of 5 different words that can stay on its own.'"
      ]
     },
     "execution_count": 18,
     "metadata": {},
     "output_type": "execute_result"
    }
   ],
   "source": [
    "e = 'Donaudampfschifffahrtsgesellschaft '\n",
    "f = 'is a very long German word. '\n",
    "g = 'It is a combination of 5 different words that can stay on its own.'\n",
    "e+f+g"
   ]
  },
  {
   "cell_type": "markdown",
   "id": "bde53df8",
   "metadata": {},
   "source": [
    "# Bonus Task"
   ]
  },
  {
   "cell_type": "markdown",
   "id": "3acbbd4b",
   "metadata": {},
   "source": [
    "#### At the bottom of your file, include a command that makes a string appear 100 times."
   ]
  },
  {
   "cell_type": "code",
   "execution_count": 17,
   "id": "07e15467",
   "metadata": {},
   "outputs": [
    {
     "data": {
      "text/plain": [
       "'Donaudampfschifffahrtsgesellschaft Donaudampfschifffahrtsgesellschaft Donaudampfschifffahrtsgesellschaft Donaudampfschifffahrtsgesellschaft Donaudampfschifffahrtsgesellschaft Donaudampfschifffahrtsgesellschaft Donaudampfschifffahrtsgesellschaft Donaudampfschifffahrtsgesellschaft Donaudampfschifffahrtsgesellschaft Donaudampfschifffahrtsgesellschaft Donaudampfschifffahrtsgesellschaft Donaudampfschifffahrtsgesellschaft Donaudampfschifffahrtsgesellschaft Donaudampfschifffahrtsgesellschaft Donaudampfschifffahrtsgesellschaft Donaudampfschifffahrtsgesellschaft Donaudampfschifffahrtsgesellschaft Donaudampfschifffahrtsgesellschaft Donaudampfschifffahrtsgesellschaft Donaudampfschifffahrtsgesellschaft Donaudampfschifffahrtsgesellschaft Donaudampfschifffahrtsgesellschaft Donaudampfschifffahrtsgesellschaft Donaudampfschifffahrtsgesellschaft Donaudampfschifffahrtsgesellschaft Donaudampfschifffahrtsgesellschaft Donaudampfschifffahrtsgesellschaft Donaudampfschifffahrtsgesellschaft Donaudampfschifffahrtsgesellschaft Donaudampfschifffahrtsgesellschaft Donaudampfschifffahrtsgesellschaft Donaudampfschifffahrtsgesellschaft Donaudampfschifffahrtsgesellschaft Donaudampfschifffahrtsgesellschaft Donaudampfschifffahrtsgesellschaft Donaudampfschifffahrtsgesellschaft Donaudampfschifffahrtsgesellschaft Donaudampfschifffahrtsgesellschaft Donaudampfschifffahrtsgesellschaft Donaudampfschifffahrtsgesellschaft Donaudampfschifffahrtsgesellschaft Donaudampfschifffahrtsgesellschaft Donaudampfschifffahrtsgesellschaft Donaudampfschifffahrtsgesellschaft Donaudampfschifffahrtsgesellschaft Donaudampfschifffahrtsgesellschaft Donaudampfschifffahrtsgesellschaft Donaudampfschifffahrtsgesellschaft Donaudampfschifffahrtsgesellschaft Donaudampfschifffahrtsgesellschaft Donaudampfschifffahrtsgesellschaft Donaudampfschifffahrtsgesellschaft Donaudampfschifffahrtsgesellschaft Donaudampfschifffahrtsgesellschaft Donaudampfschifffahrtsgesellschaft Donaudampfschifffahrtsgesellschaft Donaudampfschifffahrtsgesellschaft Donaudampfschifffahrtsgesellschaft Donaudampfschifffahrtsgesellschaft Donaudampfschifffahrtsgesellschaft Donaudampfschifffahrtsgesellschaft Donaudampfschifffahrtsgesellschaft Donaudampfschifffahrtsgesellschaft Donaudampfschifffahrtsgesellschaft Donaudampfschifffahrtsgesellschaft Donaudampfschifffahrtsgesellschaft Donaudampfschifffahrtsgesellschaft Donaudampfschifffahrtsgesellschaft Donaudampfschifffahrtsgesellschaft Donaudampfschifffahrtsgesellschaft Donaudampfschifffahrtsgesellschaft Donaudampfschifffahrtsgesellschaft Donaudampfschifffahrtsgesellschaft Donaudampfschifffahrtsgesellschaft Donaudampfschifffahrtsgesellschaft Donaudampfschifffahrtsgesellschaft Donaudampfschifffahrtsgesellschaft Donaudampfschifffahrtsgesellschaft Donaudampfschifffahrtsgesellschaft Donaudampfschifffahrtsgesellschaft Donaudampfschifffahrtsgesellschaft Donaudampfschifffahrtsgesellschaft Donaudampfschifffahrtsgesellschaft Donaudampfschifffahrtsgesellschaft Donaudampfschifffahrtsgesellschaft Donaudampfschifffahrtsgesellschaft Donaudampfschifffahrtsgesellschaft Donaudampfschifffahrtsgesellschaft Donaudampfschifffahrtsgesellschaft Donaudampfschifffahrtsgesellschaft Donaudampfschifffahrtsgesellschaft Donaudampfschifffahrtsgesellschaft Donaudampfschifffahrtsgesellschaft Donaudampfschifffahrtsgesellschaft Donaudampfschifffahrtsgesellschaft Donaudampfschifffahrtsgesellschaft Donaudampfschifffahrtsgesellschaft Donaudampfschifffahrtsgesellschaft Donaudampfschifffahrtsgesellschaft Donaudampfschifffahrtsgesellschaft '"
      ]
     },
     "execution_count": 17,
     "metadata": {},
     "output_type": "execute_result"
    }
   ],
   "source": [
    "100*e"
   ]
  },
  {
   "cell_type": "code",
   "execution_count": null,
   "id": "f7970617",
   "metadata": {},
   "outputs": [],
   "source": []
  }
 ],
 "metadata": {
  "kernelspec": {
   "display_name": "Python 3 (ipykernel)",
   "language": "python",
   "name": "python3"
  },
  "language_info": {
   "codemirror_mode": {
    "name": "ipython",
    "version": 3
   },
   "file_extension": ".py",
   "mimetype": "text/x-python",
   "name": "python",
   "nbconvert_exporter": "python",
   "pygments_lexer": "ipython3",
   "version": "3.9.7"
  }
 },
 "nbformat": 4,
 "nbformat_minor": 5
}
