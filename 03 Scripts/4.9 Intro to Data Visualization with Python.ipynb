{
 "cells": [
  {
   "cell_type": "markdown",
   "id": "536e1c78",
   "metadata": {},
   "source": [
    "# 01. Preparing Notebook\n",
    "# 02. Creating Bar Charts\n",
    "# 03. Exporting Charts\n",
    "# 04. Creating Histograms and Scatterplots\n",
    "# 05. Creating Line Charts\n",
    "# 05a. Sampling Data"
   ]
  },
  {
   "cell_type": "markdown",
   "id": "958e7e07",
   "metadata": {},
   "source": [
    "## 01. Preparing Notebook"
   ]
  },
  {
   "cell_type": "code",
   "execution_count": 1,
   "id": "39f4cab7",
   "metadata": {},
   "outputs": [],
   "source": [
    "# importing libraries\n",
    "import pandas as pd\n",
    "import numpy as np\n",
    "import os\n",
    "import matplotlib.pyplot as plt\n",
    "import seaborn as sns\n",
    "import scipy"
   ]
  },
  {
   "cell_type": "code",
   "execution_count": 2,
   "id": "6cfff54d",
   "metadata": {},
   "outputs": [],
   "source": [
    "# creating path\n",
    "path = r'C:\\Users\\lifti\\OneDrive\\CareerFoundry\\Data Immersion\\Achievement4\\Instacart Basket Analysis'"
   ]
  },
  {
   "cell_type": "code",
   "execution_count": 3,
   "id": "72f5d64e",
   "metadata": {},
   "outputs": [],
   "source": [
    "# importing orders_products_2.pkl\n",
    "ords_prods_merge = pd.read_pickle (os.path.join (path, '02 Data','Prepared Data','orders_products_2.pkl'))"
   ]
  },
  {
   "cell_type": "code",
   "execution_count": 4,
   "id": "b8acf162",
   "metadata": {},
   "outputs": [
    {
     "data": {
      "text/html": [
       "<div>\n",
       "<style scoped>\n",
       "    .dataframe tbody tr th:only-of-type {\n",
       "        vertical-align: middle;\n",
       "    }\n",
       "\n",
       "    .dataframe tbody tr th {\n",
       "        vertical-align: top;\n",
       "    }\n",
       "\n",
       "    .dataframe thead th {\n",
       "        text-align: right;\n",
       "    }\n",
       "</style>\n",
       "<table border=\"1\" class=\"dataframe\">\n",
       "  <thead>\n",
       "    <tr style=\"text-align: right;\">\n",
       "      <th></th>\n",
       "      <th>order_id</th>\n",
       "      <th>user_id</th>\n",
       "      <th>order_number_history</th>\n",
       "      <th>order_day_of_week</th>\n",
       "      <th>order_hour_of_day</th>\n",
       "      <th>days_since_prior_order</th>\n",
       "      <th>product_id</th>\n",
       "      <th>add_to_cart_order</th>\n",
       "      <th>reordered</th>\n",
       "      <th>product_name</th>\n",
       "      <th>...</th>\n",
       "      <th>price_range_loc</th>\n",
       "      <th>busiest_day</th>\n",
       "      <th>busiest_days</th>\n",
       "      <th>busiest_period_of_day</th>\n",
       "      <th>max_order</th>\n",
       "      <th>loyalty_flag</th>\n",
       "      <th>average_price_order</th>\n",
       "      <th>Spender</th>\n",
       "      <th>median_order</th>\n",
       "      <th>customer_frequency</th>\n",
       "    </tr>\n",
       "  </thead>\n",
       "  <tbody>\n",
       "    <tr>\n",
       "      <th>0</th>\n",
       "      <td>2539329</td>\n",
       "      <td>1</td>\n",
       "      <td>1</td>\n",
       "      <td>2</td>\n",
       "      <td>8</td>\n",
       "      <td>NaN</td>\n",
       "      <td>196</td>\n",
       "      <td>1</td>\n",
       "      <td>0</td>\n",
       "      <td>Soda</td>\n",
       "      <td>...</td>\n",
       "      <td>Mid-range products</td>\n",
       "      <td>Regularly busy</td>\n",
       "      <td>Regularly busy</td>\n",
       "      <td>Average orders</td>\n",
       "      <td>10</td>\n",
       "      <td>New customer</td>\n",
       "      <td>6.320</td>\n",
       "      <td>Low spender</td>\n",
       "      <td>20.5</td>\n",
       "      <td>Non-frequent customer</td>\n",
       "    </tr>\n",
       "    <tr>\n",
       "      <th>1</th>\n",
       "      <td>2398795</td>\n",
       "      <td>1</td>\n",
       "      <td>2</td>\n",
       "      <td>3</td>\n",
       "      <td>7</td>\n",
       "      <td>15.0</td>\n",
       "      <td>196</td>\n",
       "      <td>1</td>\n",
       "      <td>1</td>\n",
       "      <td>Soda</td>\n",
       "      <td>...</td>\n",
       "      <td>Mid-range products</td>\n",
       "      <td>Regularly busy</td>\n",
       "      <td>Least busy</td>\n",
       "      <td>Average orders</td>\n",
       "      <td>10</td>\n",
       "      <td>New customer</td>\n",
       "      <td>5.900</td>\n",
       "      <td>Low spender</td>\n",
       "      <td>20.5</td>\n",
       "      <td>Non-frequent customer</td>\n",
       "    </tr>\n",
       "    <tr>\n",
       "      <th>2</th>\n",
       "      <td>473747</td>\n",
       "      <td>1</td>\n",
       "      <td>3</td>\n",
       "      <td>3</td>\n",
       "      <td>12</td>\n",
       "      <td>21.0</td>\n",
       "      <td>196</td>\n",
       "      <td>1</td>\n",
       "      <td>1</td>\n",
       "      <td>Soda</td>\n",
       "      <td>...</td>\n",
       "      <td>Mid-range products</td>\n",
       "      <td>Regularly busy</td>\n",
       "      <td>Least busy</td>\n",
       "      <td>Most orders</td>\n",
       "      <td>10</td>\n",
       "      <td>New customer</td>\n",
       "      <td>5.640</td>\n",
       "      <td>Low spender</td>\n",
       "      <td>20.5</td>\n",
       "      <td>Non-frequent customer</td>\n",
       "    </tr>\n",
       "    <tr>\n",
       "      <th>3</th>\n",
       "      <td>2254736</td>\n",
       "      <td>1</td>\n",
       "      <td>4</td>\n",
       "      <td>4</td>\n",
       "      <td>7</td>\n",
       "      <td>29.0</td>\n",
       "      <td>196</td>\n",
       "      <td>1</td>\n",
       "      <td>1</td>\n",
       "      <td>Soda</td>\n",
       "      <td>...</td>\n",
       "      <td>Mid-range products</td>\n",
       "      <td>Least busy</td>\n",
       "      <td>Least busy</td>\n",
       "      <td>Average orders</td>\n",
       "      <td>10</td>\n",
       "      <td>New customer</td>\n",
       "      <td>5.200</td>\n",
       "      <td>Low spender</td>\n",
       "      <td>20.5</td>\n",
       "      <td>Non-frequent customer</td>\n",
       "    </tr>\n",
       "    <tr>\n",
       "      <th>4</th>\n",
       "      <td>431534</td>\n",
       "      <td>1</td>\n",
       "      <td>5</td>\n",
       "      <td>4</td>\n",
       "      <td>15</td>\n",
       "      <td>28.0</td>\n",
       "      <td>196</td>\n",
       "      <td>1</td>\n",
       "      <td>1</td>\n",
       "      <td>Soda</td>\n",
       "      <td>...</td>\n",
       "      <td>Mid-range products</td>\n",
       "      <td>Least busy</td>\n",
       "      <td>Least busy</td>\n",
       "      <td>Most orders</td>\n",
       "      <td>10</td>\n",
       "      <td>New customer</td>\n",
       "      <td>7.125</td>\n",
       "      <td>Low spender</td>\n",
       "      <td>20.5</td>\n",
       "      <td>Non-frequent customer</td>\n",
       "    </tr>\n",
       "  </tbody>\n",
       "</table>\n",
       "<p>5 rows × 23 columns</p>\n",
       "</div>"
      ],
      "text/plain": [
       "   order_id  user_id  order_number_history  order_day_of_week  \\\n",
       "0   2539329        1                     1                  2   \n",
       "1   2398795        1                     2                  3   \n",
       "2    473747        1                     3                  3   \n",
       "3   2254736        1                     4                  4   \n",
       "4    431534        1                     5                  4   \n",
       "\n",
       "   order_hour_of_day  days_since_prior_order  product_id  add_to_cart_order  \\\n",
       "0                  8                     NaN         196                  1   \n",
       "1                  7                    15.0         196                  1   \n",
       "2                 12                    21.0         196                  1   \n",
       "3                  7                    29.0         196                  1   \n",
       "4                 15                    28.0         196                  1   \n",
       "\n",
       "   reordered product_name  ...     price_range_loc     busiest_day  \\\n",
       "0          0         Soda  ...  Mid-range products  Regularly busy   \n",
       "1          1         Soda  ...  Mid-range products  Regularly busy   \n",
       "2          1         Soda  ...  Mid-range products  Regularly busy   \n",
       "3          1         Soda  ...  Mid-range products      Least busy   \n",
       "4          1         Soda  ...  Mid-range products      Least busy   \n",
       "\n",
       "     busiest_days busiest_period_of_day max_order  loyalty_flag  \\\n",
       "0  Regularly busy        Average orders        10  New customer   \n",
       "1      Least busy        Average orders        10  New customer   \n",
       "2      Least busy           Most orders        10  New customer   \n",
       "3      Least busy        Average orders        10  New customer   \n",
       "4      Least busy           Most orders        10  New customer   \n",
       "\n",
       "  average_price_order      Spender median_order     customer_frequency  \n",
       "0               6.320  Low spender         20.5  Non-frequent customer  \n",
       "1               5.900  Low spender         20.5  Non-frequent customer  \n",
       "2               5.640  Low spender         20.5  Non-frequent customer  \n",
       "3               5.200  Low spender         20.5  Non-frequent customer  \n",
       "4               7.125  Low spender         20.5  Non-frequent customer  \n",
       "\n",
       "[5 rows x 23 columns]"
      ]
     },
     "execution_count": 4,
     "metadata": {},
     "output_type": "execute_result"
    }
   ],
   "source": [
    "ords_prods_merge.head()"
   ]
  },
  {
   "cell_type": "markdown",
   "id": "d57a9ab9",
   "metadata": {},
   "source": [
    "## 02. Creating Bar Charts"
   ]
  },
  {
   "cell_type": "code",
   "execution_count": 5,
   "id": "5e044bfa",
   "metadata": {},
   "outputs": [
    {
     "data": {
      "text/plain": [
       "<AxesSubplot:>"
      ]
     },
     "execution_count": 5,
     "metadata": {},
     "output_type": "execute_result"
    },
    {
     "data": {
      "image/png": "[encoded data removed]",
      "text/plain": [
       "<Figure size 432x288 with 1 Axes>"
      ]
     },
     "metadata": {
      "needs_background": "light"
     },
     "output_type": "display_data"
    }
   ],
   "source": [
    "# creating bar chart for ords_prods_merge\n",
    "ords_prods_merge['order_day_of_week'].value_counts().plot.bar()"
   ]
  },
  {
   "cell_type": "code",
   "execution_count": 6,
   "id": "e35d840a",
   "metadata": {},
   "outputs": [
    {
     "data": {
      "text/plain": [
       "0    6204182\n",
       "1    5660230\n",
       "6    4496490\n",
       "2    4213830\n",
       "5    4205791\n",
       "3    3840534\n",
       "4    3783802\n",
       "Name: order_day_of_week, dtype: int64"
      ]
     },
     "execution_count": 6,
     "metadata": {},
     "output_type": "execute_result"
    }
   ],
   "source": [
    "# looking at the values for comparison\n",
    "ords_prods_merge['order_day_of_week'].value_counts()"
   ]
  },
  {
   "cell_type": "code",
   "execution_count": 7,
   "id": "4fc747f3",
   "metadata": {},
   "outputs": [
    {
     "data": {
      "text/plain": [
       "<AxesSubplot:>"
      ]
     },
     "execution_count": 7,
     "metadata": {},
     "output_type": "execute_result"
    },
    {
     "data": {
      "image/png": "[encoded data removed]",
      "text/plain": [
       "<Figure size 432x288 with 1 Axes>"
      ]
     },
     "metadata": {
      "needs_background": "light"
     },
     "output_type": "display_data"
    }
   ],
   "source": [
    "# sorting the barchart based on the index\n",
    "ords_prods_merge['order_day_of_week'].value_counts().sort_index().plot.bar()"
   ]
  },
  {
   "cell_type": "code",
   "execution_count": 8,
   "id": "010148e4",
   "metadata": {},
   "outputs": [
    {
     "data": {
      "text/plain": [
       "<AxesSubplot:>"
      ]
     },
     "execution_count": 8,
     "metadata": {},
     "output_type": "execute_result"
    },
    {
     "data": {
      "image/png": "[encoded data removed]",
      "text/plain": [
       "<Figure size 432x288 with 1 Axes>"
      ]
     },
     "metadata": {
      "needs_background": "light"
     },
     "output_type": "display_data"
    }
   ],
   "source": [
    "# bringing into the bar chart color\n",
    "ords_prods_merge['order_day_of_week'].value_counts().plot.bar(color=['red','blue','green','orange','purple','pink','yellow'])"
   ]
  },
  {
   "cell_type": "markdown",
   "id": "220162ef",
   "metadata": {},
   "source": [
    "## 03. Exporting Charts"
   ]
  },
  {
   "cell_type": "code",
   "execution_count": 9,
   "id": "99cdbca6",
   "metadata": {},
   "outputs": [
    {
     "data": {
      "image/png": "[encoded data removed]",
      "text/plain": [
       "<Figure size 432x288 with 1 Axes>"
      ]
     },
     "metadata": {
      "needs_background": "light"
     },
     "output_type": "display_data"
    }
   ],
   "source": [
    "# saving the bar chart\n",
    "bar = ords_prods_merge['order_day_of_week'].value_counts().plot.bar(color =['purple', 'red', 'pink', 'orange', 'yellow', 'green', 'blue'])"
   ]
  },
  {
   "cell_type": "code",
   "execution_count": 10,
   "id": "4f471ff1",
   "metadata": {},
   "outputs": [
    {
     "data": {
      "image/png": "[encoded data removed]",
      "text/plain": [
       "<Figure size 432x288 with 1 Axes>"
      ]
     },
     "execution_count": 10,
     "metadata": {},
     "output_type": "execute_result"
    }
   ],
   "source": [
    "# access the new saved bar chart\n",
    "bar.figure"
   ]
  },
  {
   "cell_type": "code",
   "execution_count": 17,
   "id": "356f37e9",
   "metadata": {},
   "outputs": [],
   "source": [
    "# export an image file (.png) of the bar chart\n",
    "bar.figure.savefig(os.path.join(path, '04 Analysis','Visualizations','bar_orders_dow.png'))"
   ]
  },
  {
   "cell_type": "markdown",
   "id": "de7639ce",
   "metadata": {},
   "source": [
    "## 04. Creating Histograms and Scatterplots"
   ]
  },
  {
   "cell_type": "code",
   "execution_count": 11,
   "id": "5715b9c6",
   "metadata": {},
   "outputs": [
    {
     "data": {
      "text/plain": [
       "<AxesSubplot:ylabel='Frequency'>"
      ]
     },
     "execution_count": 11,
     "metadata": {},
     "output_type": "execute_result"
    },
    {
     "data": {
      "image/png": "[encoded data removed]",
      "text/plain": [
       "<Figure size 432x288 with 1 Axes>"
      ]
     },
     "metadata": {
      "needs_background": "light"
     },
     "output_type": "display_data"
    }
   ],
   "source": [
    "# creating a histogram for the column 'prices'\n",
    "ords_prods_merge['prices'].plot.hist(bins = 25)"
   ]
  },
  {
   "cell_type": "code",
   "execution_count": 12,
   "id": "516e729a",
   "metadata": {},
   "outputs": [
    {
     "data": {
      "text/plain": [
       "count    3.240486e+07\n",
       "mean     1.198023e+01\n",
       "std      4.956554e+02\n",
       "min      1.000000e+00\n",
       "25%      4.200000e+00\n",
       "50%      7.400000e+00\n",
       "75%      1.130000e+01\n",
       "max      9.999900e+04\n",
       "Name: prices, dtype: float64"
      ]
     },
     "execution_count": 12,
     "metadata": {},
     "output_type": "execute_result"
    }
   ],
   "source": [
    "# the chart does not look good\n",
    "ords_prods_merge['prices'].describe()"
   ]
  },
  {
   "cell_type": "code",
   "execution_count": 13,
   "id": "4f589ca1",
   "metadata": {},
   "outputs": [
    {
     "data": {
      "text/plain": [
       "11.980225638467232"
      ]
     },
     "execution_count": 13,
     "metadata": {},
     "output_type": "execute_result"
    }
   ],
   "source": [
    "# mean\n",
    "ords_prods_merge['prices'].mean()"
   ]
  },
  {
   "cell_type": "code",
   "execution_count": 14,
   "id": "0970f445",
   "metadata": {},
   "outputs": [
    {
     "data": {
      "text/plain": [
       "7.4"
      ]
     },
     "execution_count": 14,
     "metadata": {},
     "output_type": "execute_result"
    }
   ],
   "source": [
    "# median\n",
    "ords_prods_merge['prices'].median()"
   ]
  },
  {
   "cell_type": "code",
   "execution_count": 15,
   "id": "7b579164",
   "metadata": {},
   "outputs": [
    {
     "data": {
      "text/plain": [
       "99999.0"
      ]
     },
     "execution_count": 15,
     "metadata": {},
     "output_type": "execute_result"
    }
   ],
   "source": [
    "# max\n",
    "ords_prods_merge['prices'].max()"
   ]
  },
  {
   "cell_type": "code",
   "execution_count": 16,
   "id": "09d9834f",
   "metadata": {},
   "outputs": [
    {
     "data": {
      "text/plain": [
       "<AxesSubplot:xlabel='prices', ylabel='prices'>"
      ]
     },
     "execution_count": 16,
     "metadata": {},
     "output_type": "execute_result"
    },
    {
     "data": {
      "image/png": "[encoded data removed]",
      "text/plain": [
       "<Figure size 432x288 with 1 Axes>"
      ]
     },
     "metadata": {
      "needs_background": "light"
     },
     "output_type": "display_data"
    }
   ],
   "source": [
    "# scatterplot for further investigation\n",
    "sns.scatterplot(x = 'prices', y ='prices', data = ords_prods_merge)"
   ]
  },
  {
   "cell_type": "code",
   "execution_count": 17,
   "id": "622814c8",
   "metadata": {},
   "outputs": [],
   "source": [
    "# weired values at arround 20.000 and 100.000\n",
    "df = ords_prods_merge.loc[ords_prods_merge['prices'] > 100]"
   ]
  },
  {
   "cell_type": "code",
   "execution_count": 18,
   "id": "50e7799f",
   "metadata": {},
   "outputs": [
    {
     "data": {
      "text/plain": [
       "14900.0    4429\n",
       "99999.0     698\n",
       "Name: prices, dtype: int64"
      ]
     },
     "execution_count": 18,
     "metadata": {},
     "output_type": "execute_result"
    }
   ],
   "source": [
    "# how many times does the data come?\n",
    "df['prices'].value_counts(dropna = False)"
   ]
  },
  {
   "cell_type": "code",
   "execution_count": 19,
   "id": "59a79714",
   "metadata": {},
   "outputs": [],
   "source": [
    "# treat this data points as missing by changing them to 'NaN'\n",
    "ords_prods_merge.loc[ords_prods_merge['prices'] > 100, 'prices'] = np.nan"
   ]
  },
  {
   "cell_type": "code",
   "execution_count": 20,
   "id": "5b8e97cc",
   "metadata": {},
   "outputs": [
    {
     "data": {
      "text/plain": [
       "25.0"
      ]
     },
     "execution_count": 20,
     "metadata": {},
     "output_type": "execute_result"
    }
   ],
   "source": [
    "# checking if it worked\n",
    "ords_prods_merge['prices'].max()"
   ]
  },
  {
   "cell_type": "code",
   "execution_count": 21,
   "id": "c684735e",
   "metadata": {},
   "outputs": [
    {
     "data": {
      "text/plain": [
       "<AxesSubplot:ylabel='Frequency'>"
      ]
     },
     "execution_count": 21,
     "metadata": {},
     "output_type": "execute_result"
    },
    {
     "data": {
      "image/png": "[encoded data removed]",
      "text/plain": [
       "<Figure size 432x288 with 1 Axes>"
      ]
     },
     "metadata": {
      "needs_background": "light"
     },
     "output_type": "display_data"
    }
   ],
   "source": [
    "# creating a histogram for the column 'prices' after data cleaning\n",
    "ords_prods_merge['prices'].plot.hist(bins = 25)"
   ]
  },
  {
   "cell_type": "code",
   "execution_count": 22,
   "id": "d839a61d",
   "metadata": {},
   "outputs": [
    {
     "data": {
      "text/plain": [
       "<AxesSubplot:ylabel='Frequency'>"
      ]
     },
     "execution_count": 22,
     "metadata": {},
     "output_type": "execute_result"
    },
    {
     "data": {
      "image/png": "[encoded data removed]",
      "text/plain": [
       "<Figure size 432x288 with 1 Axes>"
      ]
     },
     "metadata": {
      "needs_background": "light"
     },
     "output_type": "display_data"
    }
   ],
   "source": [
    "# increasing the granularity by increasing the bins\n",
    "ords_prods_merge['prices'].plot.hist(bins = 70)"
   ]
  },
  {
   "cell_type": "code",
   "execution_count": 50,
   "id": "34eb98e8",
   "metadata": {},
   "outputs": [
    {
     "data": {
      "image/png": "[encoded data removed]",
      "text/plain": [
       "<Figure size 432x288 with 1 Axes>"
      ]
     },
     "metadata": {
      "needs_background": "light"
     },
     "output_type": "display_data"
    }
   ],
   "source": [
    "#saving the histogram\n",
    "hist = ords_prods_merge['prices'].plot.hist(bins = 70)"
   ]
  },
  {
   "cell_type": "code",
   "execution_count": 52,
   "id": "a5c5a488",
   "metadata": {},
   "outputs": [],
   "source": [
    "# exporting the histogram\n",
    "hist.figure.savefig(os.path.join (path,'04 Analysis','Visualizations', 'hist_prices.png'))"
   ]
  },
  {
   "cell_type": "markdown",
   "id": "3dd109cd",
   "metadata": {},
   "source": [
    "## 05. Creating Line Charts"
   ]
  },
  {
   "cell_type": "code",
   "execution_count": 23,
   "id": "4657473e",
   "metadata": {},
   "outputs": [],
   "source": [
    "# creating a smaller data sets, because it could be that my RAM is to small\n",
    "df = ords_prods_merge[:2000000]"
   ]
  },
  {
   "cell_type": "code",
   "execution_count": 24,
   "id": "4e4b649d",
   "metadata": {},
   "outputs": [
    {
     "data": {
      "text/html": [
       "<div>\n",
       "<style scoped>\n",
       "    .dataframe tbody tr th:only-of-type {\n",
       "        vertical-align: middle;\n",
       "    }\n",
       "\n",
       "    .dataframe tbody tr th {\n",
       "        vertical-align: top;\n",
       "    }\n",
       "\n",
       "    .dataframe thead th {\n",
       "        text-align: right;\n",
       "    }\n",
       "</style>\n",
       "<table border=\"1\" class=\"dataframe\">\n",
       "  <thead>\n",
       "    <tr style=\"text-align: right;\">\n",
       "      <th></th>\n",
       "      <th>order_id</th>\n",
       "      <th>user_id</th>\n",
       "      <th>order_number_history</th>\n",
       "      <th>order_day_of_week</th>\n",
       "      <th>order_hour_of_day</th>\n",
       "      <th>days_since_prior_order</th>\n",
       "      <th>product_id</th>\n",
       "      <th>add_to_cart_order</th>\n",
       "      <th>reordered</th>\n",
       "      <th>product_name</th>\n",
       "      <th>...</th>\n",
       "      <th>price_range_loc</th>\n",
       "      <th>busiest_day</th>\n",
       "      <th>busiest_days</th>\n",
       "      <th>busiest_period_of_day</th>\n",
       "      <th>max_order</th>\n",
       "      <th>loyalty_flag</th>\n",
       "      <th>average_price_order</th>\n",
       "      <th>Spender</th>\n",
       "      <th>median_order</th>\n",
       "      <th>customer_frequency</th>\n",
       "    </tr>\n",
       "  </thead>\n",
       "  <tbody>\n",
       "    <tr>\n",
       "      <th>0</th>\n",
       "      <td>2539329</td>\n",
       "      <td>1</td>\n",
       "      <td>1</td>\n",
       "      <td>2</td>\n",
       "      <td>8</td>\n",
       "      <td>NaN</td>\n",
       "      <td>196</td>\n",
       "      <td>1</td>\n",
       "      <td>0</td>\n",
       "      <td>Soda</td>\n",
       "      <td>...</td>\n",
       "      <td>Mid-range products</td>\n",
       "      <td>Regularly busy</td>\n",
       "      <td>Regularly busy</td>\n",
       "      <td>Average orders</td>\n",
       "      <td>10</td>\n",
       "      <td>New customer</td>\n",
       "      <td>6.320000</td>\n",
       "      <td>Low spender</td>\n",
       "      <td>20.5</td>\n",
       "      <td>Non-frequent customer</td>\n",
       "    </tr>\n",
       "    <tr>\n",
       "      <th>1</th>\n",
       "      <td>2398795</td>\n",
       "      <td>1</td>\n",
       "      <td>2</td>\n",
       "      <td>3</td>\n",
       "      <td>7</td>\n",
       "      <td>15.0</td>\n",
       "      <td>196</td>\n",
       "      <td>1</td>\n",
       "      <td>1</td>\n",
       "      <td>Soda</td>\n",
       "      <td>...</td>\n",
       "      <td>Mid-range products</td>\n",
       "      <td>Regularly busy</td>\n",
       "      <td>Least busy</td>\n",
       "      <td>Average orders</td>\n",
       "      <td>10</td>\n",
       "      <td>New customer</td>\n",
       "      <td>5.900000</td>\n",
       "      <td>Low spender</td>\n",
       "      <td>20.5</td>\n",
       "      <td>Non-frequent customer</td>\n",
       "    </tr>\n",
       "    <tr>\n",
       "      <th>2</th>\n",
       "      <td>473747</td>\n",
       "      <td>1</td>\n",
       "      <td>3</td>\n",
       "      <td>3</td>\n",
       "      <td>12</td>\n",
       "      <td>21.0</td>\n",
       "      <td>196</td>\n",
       "      <td>1</td>\n",
       "      <td>1</td>\n",
       "      <td>Soda</td>\n",
       "      <td>...</td>\n",
       "      <td>Mid-range products</td>\n",
       "      <td>Regularly busy</td>\n",
       "      <td>Least busy</td>\n",
       "      <td>Most orders</td>\n",
       "      <td>10</td>\n",
       "      <td>New customer</td>\n",
       "      <td>5.640000</td>\n",
       "      <td>Low spender</td>\n",
       "      <td>20.5</td>\n",
       "      <td>Non-frequent customer</td>\n",
       "    </tr>\n",
       "    <tr>\n",
       "      <th>3</th>\n",
       "      <td>2254736</td>\n",
       "      <td>1</td>\n",
       "      <td>4</td>\n",
       "      <td>4</td>\n",
       "      <td>7</td>\n",
       "      <td>29.0</td>\n",
       "      <td>196</td>\n",
       "      <td>1</td>\n",
       "      <td>1</td>\n",
       "      <td>Soda</td>\n",
       "      <td>...</td>\n",
       "      <td>Mid-range products</td>\n",
       "      <td>Least busy</td>\n",
       "      <td>Least busy</td>\n",
       "      <td>Average orders</td>\n",
       "      <td>10</td>\n",
       "      <td>New customer</td>\n",
       "      <td>5.200000</td>\n",
       "      <td>Low spender</td>\n",
       "      <td>20.5</td>\n",
       "      <td>Non-frequent customer</td>\n",
       "    </tr>\n",
       "    <tr>\n",
       "      <th>4</th>\n",
       "      <td>431534</td>\n",
       "      <td>1</td>\n",
       "      <td>5</td>\n",
       "      <td>4</td>\n",
       "      <td>15</td>\n",
       "      <td>28.0</td>\n",
       "      <td>196</td>\n",
       "      <td>1</td>\n",
       "      <td>1</td>\n",
       "      <td>Soda</td>\n",
       "      <td>...</td>\n",
       "      <td>Mid-range products</td>\n",
       "      <td>Least busy</td>\n",
       "      <td>Least busy</td>\n",
       "      <td>Most orders</td>\n",
       "      <td>10</td>\n",
       "      <td>New customer</td>\n",
       "      <td>7.125000</td>\n",
       "      <td>Low spender</td>\n",
       "      <td>20.5</td>\n",
       "      <td>Non-frequent customer</td>\n",
       "    </tr>\n",
       "    <tr>\n",
       "      <th>...</th>\n",
       "      <td>...</td>\n",
       "      <td>...</td>\n",
       "      <td>...</td>\n",
       "      <td>...</td>\n",
       "      <td>...</td>\n",
       "      <td>...</td>\n",
       "      <td>...</td>\n",
       "      <td>...</td>\n",
       "      <td>...</td>\n",
       "      <td>...</td>\n",
       "      <td>...</td>\n",
       "      <td>...</td>\n",
       "      <td>...</td>\n",
       "      <td>...</td>\n",
       "      <td>...</td>\n",
       "      <td>...</td>\n",
       "      <td>...</td>\n",
       "      <td>...</td>\n",
       "      <td>...</td>\n",
       "      <td>...</td>\n",
       "      <td>...</td>\n",
       "    </tr>\n",
       "    <tr>\n",
       "      <th>1999995</th>\n",
       "      <td>183520</td>\n",
       "      <td>205921</td>\n",
       "      <td>2</td>\n",
       "      <td>1</td>\n",
       "      <td>9</td>\n",
       "      <td>30.0</td>\n",
       "      <td>24852</td>\n",
       "      <td>9</td>\n",
       "      <td>0</td>\n",
       "      <td>Banana</td>\n",
       "      <td>...</td>\n",
       "      <td>Mid-range products</td>\n",
       "      <td>Regularly busy</td>\n",
       "      <td>Busiest days</td>\n",
       "      <td>Most orders</td>\n",
       "      <td>7</td>\n",
       "      <td>New customer</td>\n",
       "      <td>7.655556</td>\n",
       "      <td>Low spender</td>\n",
       "      <td>30.0</td>\n",
       "      <td>Non-frequent customer</td>\n",
       "    </tr>\n",
       "    <tr>\n",
       "      <th>1999996</th>\n",
       "      <td>3315075</td>\n",
       "      <td>205923</td>\n",
       "      <td>1</td>\n",
       "      <td>3</td>\n",
       "      <td>17</td>\n",
       "      <td>NaN</td>\n",
       "      <td>24852</td>\n",
       "      <td>1</td>\n",
       "      <td>0</td>\n",
       "      <td>Banana</td>\n",
       "      <td>...</td>\n",
       "      <td>Mid-range products</td>\n",
       "      <td>Regularly busy</td>\n",
       "      <td>Least busy</td>\n",
       "      <td>Most orders</td>\n",
       "      <td>11</td>\n",
       "      <td>Regular customer</td>\n",
       "      <td>7.200000</td>\n",
       "      <td>Low spender</td>\n",
       "      <td>14.0</td>\n",
       "      <td>Regular customer</td>\n",
       "    </tr>\n",
       "    <tr>\n",
       "      <th>1999997</th>\n",
       "      <td>2672941</td>\n",
       "      <td>205928</td>\n",
       "      <td>1</td>\n",
       "      <td>6</td>\n",
       "      <td>13</td>\n",
       "      <td>NaN</td>\n",
       "      <td>24852</td>\n",
       "      <td>1</td>\n",
       "      <td>0</td>\n",
       "      <td>Banana</td>\n",
       "      <td>...</td>\n",
       "      <td>Mid-range products</td>\n",
       "      <td>Regularly busy</td>\n",
       "      <td>Regularly busy</td>\n",
       "      <td>Most orders</td>\n",
       "      <td>3</td>\n",
       "      <td>New customer</td>\n",
       "      <td>7.966667</td>\n",
       "      <td>Low spender</td>\n",
       "      <td>18.0</td>\n",
       "      <td>Regular customer</td>\n",
       "    </tr>\n",
       "    <tr>\n",
       "      <th>1999998</th>\n",
       "      <td>3235789</td>\n",
       "      <td>205928</td>\n",
       "      <td>2</td>\n",
       "      <td>3</td>\n",
       "      <td>15</td>\n",
       "      <td>18.0</td>\n",
       "      <td>24852</td>\n",
       "      <td>1</td>\n",
       "      <td>1</td>\n",
       "      <td>Banana</td>\n",
       "      <td>...</td>\n",
       "      <td>Mid-range products</td>\n",
       "      <td>Regularly busy</td>\n",
       "      <td>Least busy</td>\n",
       "      <td>Most orders</td>\n",
       "      <td>3</td>\n",
       "      <td>New customer</td>\n",
       "      <td>10.284615</td>\n",
       "      <td>High spender</td>\n",
       "      <td>18.0</td>\n",
       "      <td>Regular customer</td>\n",
       "    </tr>\n",
       "    <tr>\n",
       "      <th>1999999</th>\n",
       "      <td>1089798</td>\n",
       "      <td>205928</td>\n",
       "      <td>3</td>\n",
       "      <td>0</td>\n",
       "      <td>10</td>\n",
       "      <td>11.0</td>\n",
       "      <td>24852</td>\n",
       "      <td>1</td>\n",
       "      <td>1</td>\n",
       "      <td>Banana</td>\n",
       "      <td>...</td>\n",
       "      <td>Mid-range products</td>\n",
       "      <td>Busiest day</td>\n",
       "      <td>Busiest days</td>\n",
       "      <td>Most orders</td>\n",
       "      <td>3</td>\n",
       "      <td>New customer</td>\n",
       "      <td>8.900000</td>\n",
       "      <td>Low spender</td>\n",
       "      <td>18.0</td>\n",
       "      <td>Regular customer</td>\n",
       "    </tr>\n",
       "  </tbody>\n",
       "</table>\n",
       "<p>2000000 rows × 23 columns</p>\n",
       "</div>"
      ],
      "text/plain": [
       "         order_id  user_id  order_number_history  order_day_of_week  \\\n",
       "0         2539329        1                     1                  2   \n",
       "1         2398795        1                     2                  3   \n",
       "2          473747        1                     3                  3   \n",
       "3         2254736        1                     4                  4   \n",
       "4          431534        1                     5                  4   \n",
       "...           ...      ...                   ...                ...   \n",
       "1999995    183520   205921                     2                  1   \n",
       "1999996   3315075   205923                     1                  3   \n",
       "1999997   2672941   205928                     1                  6   \n",
       "1999998   3235789   205928                     2                  3   \n",
       "1999999   1089798   205928                     3                  0   \n",
       "\n",
       "         order_hour_of_day  days_since_prior_order  product_id  \\\n",
       "0                        8                     NaN         196   \n",
       "1                        7                    15.0         196   \n",
       "2                       12                    21.0         196   \n",
       "3                        7                    29.0         196   \n",
       "4                       15                    28.0         196   \n",
       "...                    ...                     ...         ...   \n",
       "1999995                  9                    30.0       24852   \n",
       "1999996                 17                     NaN       24852   \n",
       "1999997                 13                     NaN       24852   \n",
       "1999998                 15                    18.0       24852   \n",
       "1999999                 10                    11.0       24852   \n",
       "\n",
       "         add_to_cart_order  reordered product_name  ...     price_range_loc  \\\n",
       "0                        1          0         Soda  ...  Mid-range products   \n",
       "1                        1          1         Soda  ...  Mid-range products   \n",
       "2                        1          1         Soda  ...  Mid-range products   \n",
       "3                        1          1         Soda  ...  Mid-range products   \n",
       "4                        1          1         Soda  ...  Mid-range products   \n",
       "...                    ...        ...          ...  ...                 ...   \n",
       "1999995                  9          0       Banana  ...  Mid-range products   \n",
       "1999996                  1          0       Banana  ...  Mid-range products   \n",
       "1999997                  1          0       Banana  ...  Mid-range products   \n",
       "1999998                  1          1       Banana  ...  Mid-range products   \n",
       "1999999                  1          1       Banana  ...  Mid-range products   \n",
       "\n",
       "            busiest_day    busiest_days busiest_period_of_day max_order  \\\n",
       "0        Regularly busy  Regularly busy        Average orders        10   \n",
       "1        Regularly busy      Least busy        Average orders        10   \n",
       "2        Regularly busy      Least busy           Most orders        10   \n",
       "3            Least busy      Least busy        Average orders        10   \n",
       "4            Least busy      Least busy           Most orders        10   \n",
       "...                 ...             ...                   ...       ...   \n",
       "1999995  Regularly busy    Busiest days           Most orders         7   \n",
       "1999996  Regularly busy      Least busy           Most orders        11   \n",
       "1999997  Regularly busy  Regularly busy           Most orders         3   \n",
       "1999998  Regularly busy      Least busy           Most orders         3   \n",
       "1999999     Busiest day    Busiest days           Most orders         3   \n",
       "\n",
       "             loyalty_flag average_price_order       Spender median_order  \\\n",
       "0            New customer            6.320000   Low spender         20.5   \n",
       "1            New customer            5.900000   Low spender         20.5   \n",
       "2            New customer            5.640000   Low spender         20.5   \n",
       "3            New customer            5.200000   Low spender         20.5   \n",
       "4            New customer            7.125000   Low spender         20.5   \n",
       "...                   ...                 ...           ...          ...   \n",
       "1999995      New customer            7.655556   Low spender         30.0   \n",
       "1999996  Regular customer            7.200000   Low spender         14.0   \n",
       "1999997      New customer            7.966667   Low spender         18.0   \n",
       "1999998      New customer           10.284615  High spender         18.0   \n",
       "1999999      New customer            8.900000   Low spender         18.0   \n",
       "\n",
       "            customer_frequency  \n",
       "0        Non-frequent customer  \n",
       "1        Non-frequent customer  \n",
       "2        Non-frequent customer  \n",
       "3        Non-frequent customer  \n",
       "4        Non-frequent customer  \n",
       "...                        ...  \n",
       "1999995  Non-frequent customer  \n",
       "1999996       Regular customer  \n",
       "1999997       Regular customer  \n",
       "1999998       Regular customer  \n",
       "1999999       Regular customer  \n",
       "\n",
       "[2000000 rows x 23 columns]"
      ]
     },
     "execution_count": 24,
     "metadata": {},
     "output_type": "execute_result"
    }
   ],
   "source": [
    "df"
   ]
  },
  {
   "cell_type": "markdown",
   "id": "94a7c0e7",
   "metadata": {},
   "source": [
    "## 05a. Sampling Data"
   ]
  },
  {
   "cell_type": "markdown",
   "id": "7f815b10",
   "metadata": {},
   "source": [
    "#### Because we have such a big datafram we want to sample randomized rows. It needs to be a random assortment taken from all throughout the dataframe"
   ]
  },
  {
   "cell_type": "markdown",
   "id": "d403978d",
   "metadata": {},
   "source": [
    "#### A standard approach in machine learnin:. When training a model, you’d normally use 80 percent of a data set to train the algorithm and the remaining 20 percent to check the accuracy of the model."
   ]
  },
  {
   "cell_type": "code",
   "execution_count": 25,
   "id": "50a76b48",
   "metadata": {},
   "outputs": [],
   "source": [
    "# creating a random 0.7 sample (list) of the whole dataframe\n",
    "np.random.seed(4)\n",
    "dev = np.random.rand(len(ords_prods_merge)) <= 0.7"
   ]
  },
  {
   "cell_type": "code",
   "execution_count": 26,
   "id": "987535c8",
   "metadata": {},
   "outputs": [
    {
     "data": {
      "text/plain": [
       "array([False,  True, False, ...,  True,  True,  True])"
      ]
     },
     "execution_count": 26,
     "metadata": {},
     "output_type": "execute_result"
    }
   ],
   "source": [
    "dev"
   ]
  },
  {
   "cell_type": "markdown",
   "id": "3f4c4589",
   "metadata": {},
   "source": [
    "#### 1. Set the seed for the random number generator. [eg 4]\n",
    "#### 2. Create 32,404,859 random numbers (the length of your ords_prods_merge dataframe) ranging between 0 and 1. [len(ords_prods_merge); but this could be any number]\n",
    "#### 3. Code a logical test comparing each of those numbers to a value of 0.7 (either less than or greater than 0.7). [The output of True of False is based on whether it's less than or equal to 0.7 -> this means 70% of 'ords_prods_merge' are stored in 'dev' with a uniform value for True and False and the same is true for the 30%]\n",
    "#### 4. Store the results of the test in a new list, dev, in the form of boolean values (True and False).\n",
    "#### .random makes sure that the random numbers created follow the uniform distribution\n",
    "#### If done correctly, both samples would have an equal proportion of data. In a 70/30 split, for example, the 30 percent sample would statistically resemble the 70 percent sample but contain less rows."
   ]
  },
  {
   "cell_type": "code",
   "execution_count": 27,
   "id": "7e8cb001",
   "metadata": {},
   "outputs": [],
   "source": [
    "# store 70% of the sample in the dataframe big (=True)\n",
    "big = ords_prods_merge[dev]"
   ]
  },
  {
   "cell_type": "code",
   "execution_count": 28,
   "id": "16b38b4f",
   "metadata": {},
   "outputs": [],
   "source": [
    "# store 30% of the sample in the dataframe small (=False)\n",
    "small = ords_prods_merge[~dev]"
   ]
  },
  {
   "cell_type": "code",
   "execution_count": 29,
   "id": "1a51a722",
   "metadata": {},
   "outputs": [
    {
     "data": {
      "text/plain": [
       "32404859"
      ]
     },
     "execution_count": 29,
     "metadata": {},
     "output_type": "execute_result"
    }
   ],
   "source": [
    "len(ords_prods_merge)"
   ]
  },
  {
   "cell_type": "code",
   "execution_count": 30,
   "id": "63a7869a",
   "metadata": {},
   "outputs": [
    {
     "data": {
      "text/plain": [
       "32404859"
      ]
     },
     "execution_count": 30,
     "metadata": {},
     "output_type": "execute_result"
    }
   ],
   "source": [
    "len(big) + len(small)"
   ]
  },
  {
   "cell_type": "code",
   "execution_count": 31,
   "id": "e5c21e8e",
   "metadata": {},
   "outputs": [],
   "source": [
    "# creating a subset with the relevant columns for my analysis\n",
    "df_2 = small[['order_day_of_week','prices']]"
   ]
  },
  {
   "cell_type": "code",
   "execution_count": 32,
   "id": "8a661915",
   "metadata": {},
   "outputs": [
    {
     "data": {
      "text/html": [
       "<div>\n",
       "<style scoped>\n",
       "    .dataframe tbody tr th:only-of-type {\n",
       "        vertical-align: middle;\n",
       "    }\n",
       "\n",
       "    .dataframe tbody tr th {\n",
       "        vertical-align: top;\n",
       "    }\n",
       "\n",
       "    .dataframe thead th {\n",
       "        text-align: right;\n",
       "    }\n",
       "</style>\n",
       "<table border=\"1\" class=\"dataframe\">\n",
       "  <thead>\n",
       "    <tr style=\"text-align: right;\">\n",
       "      <th></th>\n",
       "      <th>order_day_of_week</th>\n",
       "      <th>prices</th>\n",
       "    </tr>\n",
       "  </thead>\n",
       "  <tbody>\n",
       "    <tr>\n",
       "      <th>0</th>\n",
       "      <td>2</td>\n",
       "      <td>9.0</td>\n",
       "    </tr>\n",
       "    <tr>\n",
       "      <th>2</th>\n",
       "      <td>3</td>\n",
       "      <td>9.0</td>\n",
       "    </tr>\n",
       "    <tr>\n",
       "      <th>3</th>\n",
       "      <td>4</td>\n",
       "      <td>9.0</td>\n",
       "    </tr>\n",
       "    <tr>\n",
       "      <th>6</th>\n",
       "      <td>1</td>\n",
       "      <td>9.0</td>\n",
       "    </tr>\n",
       "    <tr>\n",
       "      <th>10</th>\n",
       "      <td>1</td>\n",
       "      <td>9.0</td>\n",
       "    </tr>\n",
       "    <tr>\n",
       "      <th>...</th>\n",
       "      <td>...</td>\n",
       "      <td>...</td>\n",
       "    </tr>\n",
       "    <tr>\n",
       "      <th>32404841</th>\n",
       "      <td>1</td>\n",
       "      <td>8.8</td>\n",
       "    </tr>\n",
       "    <tr>\n",
       "      <th>32404842</th>\n",
       "      <td>2</td>\n",
       "      <td>8.8</td>\n",
       "    </tr>\n",
       "    <tr>\n",
       "      <th>32404843</th>\n",
       "      <td>0</td>\n",
       "      <td>3.7</td>\n",
       "    </tr>\n",
       "    <tr>\n",
       "      <th>32404849</th>\n",
       "      <td>3</td>\n",
       "      <td>3.7</td>\n",
       "    </tr>\n",
       "    <tr>\n",
       "      <th>32404850</th>\n",
       "      <td>4</td>\n",
       "      <td>3.7</td>\n",
       "    </tr>\n",
       "  </tbody>\n",
       "</table>\n",
       "<p>9721098 rows × 2 columns</p>\n",
       "</div>"
      ],
      "text/plain": [
       "          order_day_of_week  prices\n",
       "0                         2     9.0\n",
       "2                         3     9.0\n",
       "3                         4     9.0\n",
       "6                         1     9.0\n",
       "10                        1     9.0\n",
       "...                     ...     ...\n",
       "32404841                  1     8.8\n",
       "32404842                  2     8.8\n",
       "32404843                  0     3.7\n",
       "32404849                  3     3.7\n",
       "32404850                  4     3.7\n",
       "\n",
       "[9721098 rows x 2 columns]"
      ]
     },
     "execution_count": 32,
     "metadata": {},
     "output_type": "execute_result"
    }
   ],
   "source": [
    "df_2"
   ]
  },
  {
   "cell_type": "code",
   "execution_count": 33,
   "id": "e267f739",
   "metadata": {},
   "outputs": [
    {
     "data": {
      "image/png": "[encoded data removed]",
      "text/plain": [
       "<Figure size 432x288 with 1 Axes>"
      ]
     },
     "metadata": {
      "needs_background": "light"
     },
     "output_type": "display_data"
    }
   ],
   "source": [
    "# creating a linechart from the small sample\n",
    "line = sns.lineplot(data = df_2, x = 'order_day_of_week', y = 'prices')"
   ]
  },
  {
   "cell_type": "code",
   "execution_count": 36,
   "id": "3678cab3",
   "metadata": {},
   "outputs": [
    {
     "data": {
      "text/html": [
       "<div>\n",
       "<style scoped>\n",
       "    .dataframe tbody tr th:only-of-type {\n",
       "        vertical-align: middle;\n",
       "    }\n",
       "\n",
       "    .dataframe tbody tr th {\n",
       "        vertical-align: top;\n",
       "    }\n",
       "\n",
       "    .dataframe thead tr th {\n",
       "        text-align: left;\n",
       "    }\n",
       "\n",
       "    .dataframe thead tr:last-of-type th {\n",
       "        text-align: right;\n",
       "    }\n",
       "</style>\n",
       "<table border=\"1\" class=\"dataframe\">\n",
       "  <thead>\n",
       "    <tr>\n",
       "      <th></th>\n",
       "      <th>prices</th>\n",
       "    </tr>\n",
       "    <tr>\n",
       "      <th></th>\n",
       "      <th>mean</th>\n",
       "    </tr>\n",
       "    <tr>\n",
       "      <th>order_day_of_week</th>\n",
       "      <th></th>\n",
       "    </tr>\n",
       "  </thead>\n",
       "  <tbody>\n",
       "    <tr>\n",
       "      <th>0</th>\n",
       "      <td>7.856454</td>\n",
       "    </tr>\n",
       "    <tr>\n",
       "      <th>1</th>\n",
       "      <td>7.759224</td>\n",
       "    </tr>\n",
       "    <tr>\n",
       "      <th>2</th>\n",
       "      <td>7.758130</td>\n",
       "    </tr>\n",
       "    <tr>\n",
       "      <th>3</th>\n",
       "      <td>7.756089</td>\n",
       "    </tr>\n",
       "    <tr>\n",
       "      <th>4</th>\n",
       "      <td>7.758296</td>\n",
       "    </tr>\n",
       "    <tr>\n",
       "      <th>5</th>\n",
       "      <td>7.763234</td>\n",
       "    </tr>\n",
       "    <tr>\n",
       "      <th>6</th>\n",
       "      <td>7.856688</td>\n",
       "    </tr>\n",
       "  </tbody>\n",
       "</table>\n",
       "</div>"
      ],
      "text/plain": [
       "                     prices\n",
       "                       mean\n",
       "order_day_of_week          \n",
       "0                  7.856454\n",
       "1                  7.759224\n",
       "2                  7.758130\n",
       "3                  7.756089\n",
       "4                  7.758296\n",
       "5                  7.763234\n",
       "6                  7.856688"
      ]
     },
     "execution_count": 36,
     "metadata": {},
     "output_type": "execute_result"
    }
   ],
   "source": [
    "# calculating price average for each 'order_day_of_week' for sample\n",
    "df_2.groupby('order_day_of_week').agg({'prices':['mean']})"
   ]
  },
  {
   "cell_type": "code",
   "execution_count": 37,
   "id": "4dc503ed",
   "metadata": {},
   "outputs": [
    {
     "data": {
      "text/html": [
       "<div>\n",
       "<style scoped>\n",
       "    .dataframe tbody tr th:only-of-type {\n",
       "        vertical-align: middle;\n",
       "    }\n",
       "\n",
       "    .dataframe tbody tr th {\n",
       "        vertical-align: top;\n",
       "    }\n",
       "\n",
       "    .dataframe thead tr th {\n",
       "        text-align: left;\n",
       "    }\n",
       "\n",
       "    .dataframe thead tr:last-of-type th {\n",
       "        text-align: right;\n",
       "    }\n",
       "</style>\n",
       "<table border=\"1\" class=\"dataframe\">\n",
       "  <thead>\n",
       "    <tr>\n",
       "      <th></th>\n",
       "      <th>prices</th>\n",
       "    </tr>\n",
       "    <tr>\n",
       "      <th></th>\n",
       "      <th>mean</th>\n",
       "    </tr>\n",
       "    <tr>\n",
       "      <th>order_day_of_week</th>\n",
       "      <th></th>\n",
       "    </tr>\n",
       "  </thead>\n",
       "  <tbody>\n",
       "    <tr>\n",
       "      <th>0</th>\n",
       "      <td>7.857590</td>\n",
       "    </tr>\n",
       "    <tr>\n",
       "      <th>1</th>\n",
       "      <td>7.759697</td>\n",
       "    </tr>\n",
       "    <tr>\n",
       "      <th>2</th>\n",
       "      <td>7.754309</td>\n",
       "    </tr>\n",
       "    <tr>\n",
       "      <th>3</th>\n",
       "      <td>7.757485</td>\n",
       "    </tr>\n",
       "    <tr>\n",
       "      <th>4</th>\n",
       "      <td>7.756223</td>\n",
       "    </tr>\n",
       "    <tr>\n",
       "      <th>5</th>\n",
       "      <td>7.762477</td>\n",
       "    </tr>\n",
       "    <tr>\n",
       "      <th>6</th>\n",
       "      <td>7.857431</td>\n",
       "    </tr>\n",
       "  </tbody>\n",
       "</table>\n",
       "</div>"
      ],
      "text/plain": [
       "                     prices\n",
       "                       mean\n",
       "order_day_of_week          \n",
       "0                  7.857590\n",
       "1                  7.759697\n",
       "2                  7.754309\n",
       "3                  7.757485\n",
       "4                  7.756223\n",
       "5                  7.762477\n",
       "6                  7.857431"
      ]
     },
     "execution_count": 37,
     "metadata": {},
     "output_type": "execute_result"
    }
   ],
   "source": [
    "# calulating price average for each 'order_day_of_week' for complete df\n",
    "ords_prods_merge.groupby('order_day_of_week').agg({'prices':['mean']})"
   ]
  },
  {
   "cell_type": "code",
   "execution_count": 38,
   "id": "c9608de2",
   "metadata": {},
   "outputs": [],
   "source": [
    "# creating a subset with the relevant columns for my analysis\n",
    "df_3 = big[['order_day_of_week','prices']]"
   ]
  },
  {
   "cell_type": "code",
   "execution_count": 39,
   "id": "20fd56df",
   "metadata": {},
   "outputs": [
    {
     "data": {
      "text/html": [
       "<div>\n",
       "<style scoped>\n",
       "    .dataframe tbody tr th:only-of-type {\n",
       "        vertical-align: middle;\n",
       "    }\n",
       "\n",
       "    .dataframe tbody tr th {\n",
       "        vertical-align: top;\n",
       "    }\n",
       "\n",
       "    .dataframe thead th {\n",
       "        text-align: right;\n",
       "    }\n",
       "</style>\n",
       "<table border=\"1\" class=\"dataframe\">\n",
       "  <thead>\n",
       "    <tr style=\"text-align: right;\">\n",
       "      <th></th>\n",
       "      <th>order_day_of_week</th>\n",
       "      <th>prices</th>\n",
       "    </tr>\n",
       "  </thead>\n",
       "  <tbody>\n",
       "    <tr>\n",
       "      <th>1</th>\n",
       "      <td>3</td>\n",
       "      <td>9.0</td>\n",
       "    </tr>\n",
       "    <tr>\n",
       "      <th>4</th>\n",
       "      <td>4</td>\n",
       "      <td>9.0</td>\n",
       "    </tr>\n",
       "    <tr>\n",
       "      <th>5</th>\n",
       "      <td>2</td>\n",
       "      <td>9.0</td>\n",
       "    </tr>\n",
       "    <tr>\n",
       "      <th>7</th>\n",
       "      <td>1</td>\n",
       "      <td>9.0</td>\n",
       "    </tr>\n",
       "    <tr>\n",
       "      <th>8</th>\n",
       "      <td>1</td>\n",
       "      <td>9.0</td>\n",
       "    </tr>\n",
       "    <tr>\n",
       "      <th>...</th>\n",
       "      <td>...</td>\n",
       "      <td>...</td>\n",
       "    </tr>\n",
       "    <tr>\n",
       "      <th>32404854</th>\n",
       "      <td>2</td>\n",
       "      <td>3.7</td>\n",
       "    </tr>\n",
       "    <tr>\n",
       "      <th>32404855</th>\n",
       "      <td>5</td>\n",
       "      <td>3.7</td>\n",
       "    </tr>\n",
       "    <tr>\n",
       "      <th>32404856</th>\n",
       "      <td>2</td>\n",
       "      <td>6.9</td>\n",
       "    </tr>\n",
       "    <tr>\n",
       "      <th>32404857</th>\n",
       "      <td>3</td>\n",
       "      <td>6.9</td>\n",
       "    </tr>\n",
       "    <tr>\n",
       "      <th>32404858</th>\n",
       "      <td>4</td>\n",
       "      <td>10.3</td>\n",
       "    </tr>\n",
       "  </tbody>\n",
       "</table>\n",
       "<p>22683761 rows × 2 columns</p>\n",
       "</div>"
      ],
      "text/plain": [
       "          order_day_of_week  prices\n",
       "1                         3     9.0\n",
       "4                         4     9.0\n",
       "5                         2     9.0\n",
       "7                         1     9.0\n",
       "8                         1     9.0\n",
       "...                     ...     ...\n",
       "32404854                  2     3.7\n",
       "32404855                  5     3.7\n",
       "32404856                  2     6.9\n",
       "32404857                  3     6.9\n",
       "32404858                  4    10.3\n",
       "\n",
       "[22683761 rows x 2 columns]"
      ]
     },
     "execution_count": 39,
     "metadata": {},
     "output_type": "execute_result"
    }
   ],
   "source": [
    "df_3"
   ]
  },
  {
   "cell_type": "code",
   "execution_count": 40,
   "id": "057ef025",
   "metadata": {},
   "outputs": [
    {
     "data": {
      "image/png": "[encoded data removed]",
      "text/plain": [
       "<Figure size 432x288 with 1 Axes>"
      ]
     },
     "metadata": {
      "needs_background": "light"
     },
     "output_type": "display_data"
    }
   ],
   "source": [
    "line_2 = sns.lineplot(data = df_3, x = 'order_day_of_week', y = 'prices')"
   ]
  },
  {
   "cell_type": "code",
   "execution_count": 41,
   "id": "2f506587",
   "metadata": {},
   "outputs": [],
   "source": [
    "# exporting the linechart 'line'\n",
    "line.figure.savefig(os.path.join (path,'04 Analysis','Visualizations', 'line_prices_order_day_of_week.png'))"
   ]
  }
 ],
 "metadata": {
  "kernelspec": {
   "display_name": "Python 3 (ipykernel)",
   "language": "python",
   "name": "python3"
  },
  "language_info": {
   "codemirror_mode": {
    "name": "ipython",
    "version": 3
   },
   "file_extension": ".py",
   "mimetype": "text/x-python",
   "name": "python",
   "nbconvert_exporter": "python",
   "pygments_lexer": "ipython3",
   "version": "3.9.7"
  }
 },
 "nbformat": 4,
 "nbformat_minor": 5
}
