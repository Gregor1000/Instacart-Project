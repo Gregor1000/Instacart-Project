{
 "cells": [
  {
   "cell_type": "markdown",
   "id": "9e26a332",
   "metadata": {},
   "source": [
    "# Python Data Types"
   ]
  },
  {
   "cell_type": "markdown",
   "id": "350f2d43",
   "metadata": {},
   "source": [
    "#### Code 3 different ways of reaching a result of 100 by adding or subtracting numeric variables."
   ]
  },
  {
   "cell_type": "code",
   "execution_count": 2,
   "id": "8d45c181",
   "metadata": {},
   "outputs": [
    {
     "data": {
      "text/plain": [
       "100"
      ]
     },
     "execution_count": 2,
     "metadata": {},
     "output_type": "execute_result"
    }
   ],
   "source": [
    "# adding\n",
    "43+57"
   ]
  },
  {
   "cell_type": "code",
   "execution_count": 3,
   "id": "95416fe9",
   "metadata": {},
   "outputs": [
    {
     "data": {
      "text/plain": [
       "100"
      ]
     },
     "execution_count": 3,
     "metadata": {},
     "output_type": "execute_result"
    }
   ],
   "source": [
    "# substracting\n",
    "1000-999+99"
   ]
  },
  {
   "cell_type": "code",
   "execution_count": 5,
   "id": "04a127c2",
   "metadata": {},
   "outputs": [
    {
     "data": {
      "text/plain": [
       "100"
      ]
     },
     "execution_count": 5,
     "metadata": {},
     "output_type": "execute_result"
    }
   ],
   "source": [
    "# adding\n",
    "a = 90\n",
    "b = 10\n",
    "a+b"
   ]
  },
  {
   "cell_type": "markdown",
   "id": "b698ab64",
   "metadata": {},
   "source": [
    "#### Code 2 floating-point variables and divide them by each other."
   ]
  },
  {
   "cell_type": "code",
   "execution_count": 7,
   "id": "2ef11acc",
   "metadata": {},
   "outputs": [
    {
     "data": {
      "text/plain": [
       "0.5555061673519279"
      ]
     },
     "execution_count": 7,
     "metadata": {},
     "output_type": "execute_result"
    }
   ],
   "source": [
    "# dividing\n",
    "c = 4.999\n",
    "d = 8.999\n",
    "c/d"
   ]
  },
  {
   "cell_type": "markdown",
   "id": "63668ca0",
   "metadata": {},
   "source": [
    "#### Construct a short word made of separate strings (you’ll need to concatenate some strings!)."
   ]
  },
  {
   "cell_type": "code",
   "execution_count": 9,
   "id": "d24ffaed",
   "metadata": {},
   "outputs": [
    {
     "data": {
      "text/plain": [
       "'Danube'"
      ]
     },
     "execution_count": 9,
     "metadata": {},
     "output_type": "execute_result"
    }
   ],
   "source": [
    "# string concatenate word\n",
    "e = 'Dan'\n",
    "f = 'ube'\n",
    "e+f"
   ]
  },
  {
   "cell_type": "markdown",
   "id": "161f7c47",
   "metadata": {},
   "source": [
    "#### Construct 2 short sentences made of separate strings."
   ]
  },
  {
   "cell_type": "code",
   "execution_count": 12,
   "id": "1ed092d1",
   "metadata": {},
   "outputs": [
    {
     "data": {
      "text/plain": [
       "'Donaudampfschifffahrtsgesellschaftskapitänkajütenmanschaftsschlüssel, is a very long German word'"
      ]
     },
     "execution_count": 12,
     "metadata": {},
     "output_type": "execute_result"
    }
   ],
   "source": [
    "# string concatenate sentence\n",
    "g = 'Donaudampfschifffahrtsgesellschaftskapitänkajütenmanschaftsschlüssel'\n",
    "h = ', is a very long German word'\n",
    "g+h"
   ]
  },
  {
   "cell_type": "markdown",
   "id": "7b65b426",
   "metadata": {},
   "source": [
    "# Bonus Task"
   ]
  },
  {
   "cell_type": "markdown",
   "id": "9f8d89ad",
   "metadata": {},
   "source": [
    "#### At the bottom of your file, include a command that makes a string appear 100 times."
   ]
  },
  {
   "cell_type": "code",
   "execution_count": 13,
   "id": "b19482e2",
   "metadata": {},
   "outputs": [
    {
     "data": {
      "text/plain": [
       "'DonaudampfschifffahrtsgesellschaftskapitänkajütenmanschaftsschlüsselDonaudampfschifffahrtsgesellschaftskapitänkajütenmanschaftsschlüsselDonaudampfschifffahrtsgesellschaftskapitänkajütenmanschaftsschlüsselDonaudampfschifffahrtsgesellschaftskapitänkajütenmanschaftsschlüsselDonaudampfschifffahrtsgesellschaftskapitänkajütenmanschaftsschlüsselDonaudampfschifffahrtsgesellschaftskapitänkajütenmanschaftsschlüsselDonaudampfschifffahrtsgesellschaftskapitänkajütenmanschaftsschlüsselDonaudampfschifffahrtsgesellschaftskapitänkajütenmanschaftsschlüsselDonaudampfschifffahrtsgesellschaftskapitänkajütenmanschaftsschlüsselDonaudampfschifffahrtsgesellschaftskapitänkajütenmanschaftsschlüsselDonaudampfschifffahrtsgesellschaftskapitänkajütenmanschaftsschlüsselDonaudampfschifffahrtsgesellschaftskapitänkajütenmanschaftsschlüsselDonaudampfschifffahrtsgesellschaftskapitänkajütenmanschaftsschlüsselDonaudampfschifffahrtsgesellschaftskapitänkajütenmanschaftsschlüsselDonaudampfschifffahrtsgesellschaftskapitänkajütenmanschaftsschlüsselDonaudampfschifffahrtsgesellschaftskapitänkajütenmanschaftsschlüsselDonaudampfschifffahrtsgesellschaftskapitänkajütenmanschaftsschlüsselDonaudampfschifffahrtsgesellschaftskapitänkajütenmanschaftsschlüsselDonaudampfschifffahrtsgesellschaftskapitänkajütenmanschaftsschlüsselDonaudampfschifffahrtsgesellschaftskapitänkajütenmanschaftsschlüsselDonaudampfschifffahrtsgesellschaftskapitänkajütenmanschaftsschlüsselDonaudampfschifffahrtsgesellschaftskapitänkajütenmanschaftsschlüsselDonaudampfschifffahrtsgesellschaftskapitänkajütenmanschaftsschlüsselDonaudampfschifffahrtsgesellschaftskapitänkajütenmanschaftsschlüsselDonaudampfschifffahrtsgesellschaftskapitänkajütenmanschaftsschlüsselDonaudampfschifffahrtsgesellschaftskapitänkajütenmanschaftsschlüsselDonaudampfschifffahrtsgesellschaftskapitänkajütenmanschaftsschlüsselDonaudampfschifffahrtsgesellschaftskapitänkajütenmanschaftsschlüsselDonaudampfschifffahrtsgesellschaftskapitänkajütenmanschaftsschlüsselDonaudampfschifffahrtsgesellschaftskapitänkajütenmanschaftsschlüsselDonaudampfschifffahrtsgesellschaftskapitänkajütenmanschaftsschlüsselDonaudampfschifffahrtsgesellschaftskapitänkajütenmanschaftsschlüsselDonaudampfschifffahrtsgesellschaftskapitänkajütenmanschaftsschlüsselDonaudampfschifffahrtsgesellschaftskapitänkajütenmanschaftsschlüsselDonaudampfschifffahrtsgesellschaftskapitänkajütenmanschaftsschlüsselDonaudampfschifffahrtsgesellschaftskapitänkajütenmanschaftsschlüsselDonaudampfschifffahrtsgesellschaftskapitänkajütenmanschaftsschlüsselDonaudampfschifffahrtsgesellschaftskapitänkajütenmanschaftsschlüsselDonaudampfschifffahrtsgesellschaftskapitänkajütenmanschaftsschlüsselDonaudampfschifffahrtsgesellschaftskapitänkajütenmanschaftsschlüsselDonaudampfschifffahrtsgesellschaftskapitänkajütenmanschaftsschlüsselDonaudampfschifffahrtsgesellschaftskapitänkajütenmanschaftsschlüsselDonaudampfschifffahrtsgesellschaftskapitänkajütenmanschaftsschlüsselDonaudampfschifffahrtsgesellschaftskapitänkajütenmanschaftsschlüsselDonaudampfschifffahrtsgesellschaftskapitänkajütenmanschaftsschlüsselDonaudampfschifffahrtsgesellschaftskapitänkajütenmanschaftsschlüsselDonaudampfschifffahrtsgesellschaftskapitänkajütenmanschaftsschlüsselDonaudampfschifffahrtsgesellschaftskapitänkajütenmanschaftsschlüsselDonaudampfschifffahrtsgesellschaftskapitänkajütenmanschaftsschlüsselDonaudampfschifffahrtsgesellschaftskapitänkajütenmanschaftsschlüsselDonaudampfschifffahrtsgesellschaftskapitänkajütenmanschaftsschlüsselDonaudampfschifffahrtsgesellschaftskapitänkajütenmanschaftsschlüsselDonaudampfschifffahrtsgesellschaftskapitänkajütenmanschaftsschlüsselDonaudampfschifffahrtsgesellschaftskapitänkajütenmanschaftsschlüsselDonaudampfschifffahrtsgesellschaftskapitänkajütenmanschaftsschlüsselDonaudampfschifffahrtsgesellschaftskapitänkajütenmanschaftsschlüsselDonaudampfschifffahrtsgesellschaftskapitänkajütenmanschaftsschlüsselDonaudampfschifffahrtsgesellschaftskapitänkajütenmanschaftsschlüsselDonaudampfschifffahrtsgesellschaftskapitänkajütenmanschaftsschlüsselDonaudampfschifffahrtsgesellschaftskapitänkajütenmanschaftsschlüsselDonaudampfschifffahrtsgesellschaftskapitänkajütenmanschaftsschlüsselDonaudampfschifffahrtsgesellschaftskapitänkajütenmanschaftsschlüsselDonaudampfschifffahrtsgesellschaftskapitänkajütenmanschaftsschlüsselDonaudampfschifffahrtsgesellschaftskapitänkajütenmanschaftsschlüsselDonaudampfschifffahrtsgesellschaftskapitänkajütenmanschaftsschlüsselDonaudampfschifffahrtsgesellschaftskapitänkajütenmanschaftsschlüsselDonaudampfschifffahrtsgesellschaftskapitänkajütenmanschaftsschlüsselDonaudampfschifffahrtsgesellschaftskapitänkajütenmanschaftsschlüsselDonaudampfschifffahrtsgesellschaftskapitänkajütenmanschaftsschlüsselDonaudampfschifffahrtsgesellschaftskapitänkajütenmanschaftsschlüsselDonaudampfschifffahrtsgesellschaftskapitänkajütenmanschaftsschlüsselDonaudampfschifffahrtsgesellschaftskapitänkajütenmanschaftsschlüsselDonaudampfschifffahrtsgesellschaftskapitänkajütenmanschaftsschlüsselDonaudampfschifffahrtsgesellschaftskapitänkajütenmanschaftsschlüsselDonaudampfschifffahrtsgesellschaftskapitänkajütenmanschaftsschlüsselDonaudampfschifffahrtsgesellschaftskapitänkajütenmanschaftsschlüsselDonaudampfschifffahrtsgesellschaftskapitänkajütenmanschaftsschlüsselDonaudampfschifffahrtsgesellschaftskapitänkajütenmanschaftsschlüsselDonaudampfschifffahrtsgesellschaftskapitänkajütenmanschaftsschlüsselDonaudampfschifffahrtsgesellschaftskapitänkajütenmanschaftsschlüsselDonaudampfschifffahrtsgesellschaftskapitänkajütenmanschaftsschlüsselDonaudampfschifffahrtsgesellschaftskapitänkajütenmanschaftsschlüsselDonaudampfschifffahrtsgesellschaftskapitänkajütenmanschaftsschlüsselDonaudampfschifffahrtsgesellschaftskapitänkajütenmanschaftsschlüsselDonaudampfschifffahrtsgesellschaftskapitänkajütenmanschaftsschlüsselDonaudampfschifffahrtsgesellschaftskapitänkajütenmanschaftsschlüsselDonaudampfschifffahrtsgesellschaftskapitänkajütenmanschaftsschlüsselDonaudampfschifffahrtsgesellschaftskapitänkajütenmanschaftsschlüsselDonaudampfschifffahrtsgesellschaftskapitänkajütenmanschaftsschlüsselDonaudampfschifffahrtsgesellschaftskapitänkajütenmanschaftsschlüsselDonaudampfschifffahrtsgesellschaftskapitänkajütenmanschaftsschlüsselDonaudampfschifffahrtsgesellschaftskapitänkajütenmanschaftsschlüsselDonaudampfschifffahrtsgesellschaftskapitänkajütenmanschaftsschlüsselDonaudampfschifffahrtsgesellschaftskapitänkajütenmanschaftsschlüsselDonaudampfschifffahrtsgesellschaftskapitänkajütenmanschaftsschlüsselDonaudampfschifffahrtsgesellschaftskapitänkajütenmanschaftsschlüsselDonaudampfschifffahrtsgesellschaftskapitänkajütenmanschaftsschlüsselDonaudampfschifffahrtsgesellschaftskapitänkajütenmanschaftsschlüsselDonaudampfschifffahrtsgesellschaftskapitänkajütenmanschaftsschlüsselDonaudampfschifffahrtsgesellschaftskapitänkajütenmanschaftsschlüssel'"
      ]
     },
     "execution_count": 13,
     "metadata": {},
     "output_type": "execute_result"
    }
   ],
   "source": [
    "100*g"
   ]
  },
  {
   "cell_type": "markdown",
   "id": "ee70c2bb",
   "metadata": {},
   "source": [
    "# Python Variables: How to Define/Declare String Variable Types"
   ]
  },
  {
   "cell_type": "markdown",
   "id": "db0028c1",
   "metadata": {},
   "source": [
    "##### https://www.guru99.com/variables-in-python.html"
   ]
  },
  {
   "cell_type": "markdown",
   "id": "23c92b9e",
   "metadata": {},
   "source": [
    "### Re-declare a Variable"
   ]
  },
  {
   "cell_type": "code",
   "execution_count": 15,
   "id": "10101e69",
   "metadata": {},
   "outputs": [
    {
     "name": "stdout",
     "output_type": "stream",
     "text": [
      "0\n",
      "guru99\n"
     ]
    }
   ],
   "source": [
    "# Declare a variable and initialize it\n",
    "f = 0\n",
    "print (f)\n",
    "# re-declaring the variable works\n",
    "f = 'guru99'\n",
    "print (f)"
   ]
  },
  {
   "cell_type": "markdown",
   "id": "b12ca38c",
   "metadata": {},
   "source": [
    "### Python String Concatenation and Variable"
   ]
  },
  {
   "cell_type": "code",
   "execution_count": 16,
   "id": "46fc1ed5",
   "metadata": {},
   "outputs": [
    {
     "ename": "TypeError",
     "evalue": "can only concatenate str (not \"int\") to str",
     "output_type": "error",
     "traceback": [
      "\u001b[1;31m---------------------------------------------------------------------------\u001b[0m",
      "\u001b[1;31mTypeError\u001b[0m                                 Traceback (most recent call last)",
      "\u001b[1;32m~\\AppData\\Local\\Temp/ipykernel_1116/2770042850.py\u001b[0m in \u001b[0;36m<module>\u001b[1;34m\u001b[0m\n\u001b[0;32m      1\u001b[0m \u001b[1;31m#ERROR: different types cannot be combined\u001b[0m\u001b[1;33m\u001b[0m\u001b[1;33m\u001b[0m\u001b[0m\n\u001b[1;32m----> 2\u001b[1;33m \u001b[0mprint\u001b[0m\u001b[1;33m(\u001b[0m\u001b[1;34m'guru'\u001b[0m\u001b[1;33m+\u001b[0m\u001b[1;36m99\u001b[0m\u001b[1;33m)\u001b[0m\u001b[1;33m\u001b[0m\u001b[1;33m\u001b[0m\u001b[0m\n\u001b[0m",
      "\u001b[1;31mTypeError\u001b[0m: can only concatenate str (not \"int\") to str"
     ]
    }
   ],
   "source": [
    "#ERROR: different types cannot be combined\n",
    "print('guru'+99)"
   ]
  },
  {
   "cell_type": "code",
   "execution_count": 20,
   "id": "0e28e8e4",
   "metadata": {},
   "outputs": [
    {
     "ename": "TypeError",
     "evalue": "can only concatenate str (not \"int\") to str",
     "output_type": "error",
     "traceback": [
      "\u001b[1;31m---------------------------------------------------------------------------\u001b[0m",
      "\u001b[1;31mTypeError\u001b[0m                                 Traceback (most recent call last)",
      "\u001b[1;32m~\\AppData\\Local\\Temp/ipykernel_1116/1576179991.py\u001b[0m in \u001b[0;36m<module>\u001b[1;34m\u001b[0m\n\u001b[0;32m      2\u001b[0m \u001b[0ma\u001b[0m\u001b[1;33m=\u001b[0m\u001b[1;34m'Guru'\u001b[0m\u001b[1;33m\u001b[0m\u001b[1;33m\u001b[0m\u001b[0m\n\u001b[0;32m      3\u001b[0m \u001b[0mb\u001b[0m\u001b[1;33m=\u001b[0m\u001b[1;36m99\u001b[0m\u001b[1;33m\u001b[0m\u001b[1;33m\u001b[0m\u001b[0m\n\u001b[1;32m----> 4\u001b[1;33m \u001b[0ma\u001b[0m\u001b[1;33m+\u001b[0m\u001b[0mb\u001b[0m\u001b[1;33m\u001b[0m\u001b[1;33m\u001b[0m\u001b[0m\n\u001b[0m",
      "\u001b[1;31mTypeError\u001b[0m: can only concatenate str (not \"int\") to str"
     ]
    }
   ],
   "source": [
    "#ERROR: undefined output\n",
    "a='Guru'\n",
    "b=99\n",
    "a+b"
   ]
  },
  {
   "cell_type": "code",
   "execution_count": 21,
   "id": "417ca345",
   "metadata": {},
   "outputs": [
    {
     "data": {
      "text/plain": [
       "'Guru99'"
      ]
     },
     "execution_count": 21,
     "metadata": {},
     "output_type": "execute_result"
    }
   ],
   "source": [
    "#Declare the integer (99) as a string\n",
    "a='Guru'\n",
    "b=99\n",
    "a+str(b)"
   ]
  },
  {
   "cell_type": "markdown",
   "id": "f51286ce",
   "metadata": {},
   "source": [
    "### Python Variable Types: Local & Global"
   ]
  },
  {
   "cell_type": "code",
   "execution_count": 23,
   "id": "5d4681f5",
   "metadata": {},
   "outputs": [
    {
     "name": "stdout",
     "output_type": "stream",
     "text": [
      "101\n",
      "I am learning Python\n",
      "101\n"
     ]
    }
   ],
   "source": [
    "# Declare a variable and initialize it\n",
    "f = 101\n",
    "print (f)\n",
    "# Globarl vs. local variables in functions\n",
    "def someFunction():\n",
    "# global f\n",
    "    f = 'I am learning Python'\n",
    "    print (f)\n",
    "someFunction()\n",
    "print (f)"
   ]
  },
  {
   "cell_type": "code",
   "execution_count": 24,
   "id": "fe6c0ee7",
   "metadata": {},
   "outputs": [
    {
     "name": "stdout",
     "output_type": "stream",
     "text": [
      "101\n",
      "101\n",
      "changing global variable\n"
     ]
    }
   ],
   "source": [
    "f = 101;\n",
    "print(f)\n",
    "# Global vs. local variables in functions\n",
    "def someFunction():\n",
    "    global f\n",
    "    print(f)\n",
    "    f = 'changing global variable'\n",
    "someFunction()\n",
    "print(f)"
   ]
  },
  {
   "cell_type": "markdown",
   "id": "d91ddede",
   "metadata": {},
   "source": [
    "### My own try to local vs. global variable"
   ]
  },
  {
   "cell_type": "code",
   "execution_count": 28,
   "id": "ae9df790",
   "metadata": {},
   "outputs": [
    {
     "name": "stdout",
     "output_type": "stream",
     "text": [
      "1\n",
      "xxx\n",
      "1\n"
     ]
    }
   ],
   "source": [
    "# local vs. global variable\n",
    "f = 1\n",
    "print(f)\n",
    "def someFunction():\n",
    "    f = 'xxx'\n",
    "    print(f)\n",
    "someFunction()\n",
    "print(f)"
   ]
  },
  {
   "cell_type": "markdown",
   "id": "16b79251",
   "metadata": {},
   "source": [
    "###### \"def someFunction():\" is the beginning of the local function\n",
    "###### \"someFunction()\" states the ending of the local function\n",
    "###### \"global\" inside the somefunction-local-clause defines the variable global"
   ]
  },
  {
   "cell_type": "markdown",
   "id": "ea482482",
   "metadata": {},
   "source": [
    "### Delete a variable"
   ]
  },
  {
   "cell_type": "code",
   "execution_count": 29,
   "id": "f2e8cad5",
   "metadata": {},
   "outputs": [
    {
     "name": "stdout",
     "output_type": "stream",
     "text": [
      "11\n"
     ]
    },
    {
     "ename": "NameError",
     "evalue": "name 'f' is not defined",
     "output_type": "error",
     "traceback": [
      "\u001b[1;31m---------------------------------------------------------------------------\u001b[0m",
      "\u001b[1;31mNameError\u001b[0m                                 Traceback (most recent call last)",
      "\u001b[1;32m~\\AppData\\Local\\Temp/ipykernel_1116/3270910043.py\u001b[0m in \u001b[0;36m<module>\u001b[1;34m\u001b[0m\n\u001b[0;32m      2\u001b[0m \u001b[0mprint\u001b[0m\u001b[1;33m(\u001b[0m\u001b[0mf\u001b[0m\u001b[1;33m)\u001b[0m\u001b[1;33m\u001b[0m\u001b[1;33m\u001b[0m\u001b[0m\n\u001b[0;32m      3\u001b[0m \u001b[1;32mdel\u001b[0m \u001b[0mf\u001b[0m\u001b[1;33m\u001b[0m\u001b[1;33m\u001b[0m\u001b[0m\n\u001b[1;32m----> 4\u001b[1;33m \u001b[0mprint\u001b[0m\u001b[1;33m(\u001b[0m\u001b[0mf\u001b[0m\u001b[1;33m)\u001b[0m\u001b[1;33m\u001b[0m\u001b[1;33m\u001b[0m\u001b[0m\n\u001b[0m",
      "\u001b[1;31mNameError\u001b[0m: name 'f' is not defined"
     ]
    }
   ],
   "source": [
    "f = 11;\n",
    "print(f)\n",
    "del f\n",
    "print(f)"
   ]
  },
  {
   "cell_type": "markdown",
   "id": "eadc5fc2",
   "metadata": {},
   "source": [
    "# Python Operators"
   ]
  },
  {
   "cell_type": "markdown",
   "id": "10a5c453",
   "metadata": {},
   "source": [
    "##### https://www.w3schools.com/python/python_operators.asp"
   ]
  },
  {
   "cell_type": "markdown",
   "id": "b067ebfb",
   "metadata": {},
   "source": [
    "## Python Arithmetic Operators"
   ]
  },
  {
   "cell_type": "markdown",
   "id": "2e898179",
   "metadata": {},
   "source": [
    "### Modulus"
   ]
  },
  {
   "cell_type": "code",
   "execution_count": 50,
   "id": "1d3fa2a7",
   "metadata": {},
   "outputs": [
    {
     "data": {
      "text/plain": [
       "4"
      ]
     },
     "execution_count": 50,
     "metadata": {},
     "output_type": "execute_result"
    }
   ],
   "source": [
    "# It returns the remainder of dividing the left hand by right hand.\n",
    "x = 12\n",
    "y = 8\n",
    "x % y\n",
    "# 12 / 8: One can put 8 into 12 1 time and 4 is left, which is the result"
   ]
  },
  {
   "cell_type": "markdown",
   "id": "c123a166",
   "metadata": {},
   "source": [
    "### Exponentiation"
   ]
  },
  {
   "cell_type": "code",
   "execution_count": 51,
   "id": "2aad1401",
   "metadata": {},
   "outputs": [
    {
     "data": {
      "text/plain": [
       "8"
      ]
     },
     "execution_count": 51,
     "metadata": {},
     "output_type": "execute_result"
    }
   ],
   "source": [
    "x=2\n",
    "y=3\n",
    "x**y"
   ]
  },
  {
   "cell_type": "markdown",
   "id": "0bd4b816",
   "metadata": {},
   "source": [
    "### Floor division"
   ]
  },
  {
   "cell_type": "code",
   "execution_count": 56,
   "id": "50a0a7b6",
   "metadata": {},
   "outputs": [
    {
     "data": {
      "text/plain": [
       "7"
      ]
     },
     "execution_count": 56,
     "metadata": {},
     "output_type": "execute_result"
    }
   ],
   "source": [
    "#the floor division // rounds the result down to the nearest whole number\n",
    "x=15\n",
    "y=2\n",
    "x//y"
   ]
  },
  {
   "cell_type": "code",
   "execution_count": null,
   "id": "9fe811a6",
   "metadata": {},
   "outputs": [],
   "source": []
  }
 ],
 "metadata": {
  "kernelspec": {
   "display_name": "Python 3 (ipykernel)",
   "language": "python",
   "name": "python3"
  },
  "language_info": {
   "codemirror_mode": {
    "name": "ipython",
    "version": 3
   },
   "file_extension": ".py",
   "mimetype": "text/x-python",
   "name": "python",
   "nbconvert_exporter": "python",
   "pygments_lexer": "ipython3",
   "version": "3.9.7"
  }
 },
 "nbformat": 4,
 "nbformat_minor": 5
}
